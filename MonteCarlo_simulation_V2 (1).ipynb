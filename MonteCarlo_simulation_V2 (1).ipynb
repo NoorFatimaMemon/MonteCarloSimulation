{
  "cells": [
    {
      "cell_type": "markdown",
      "metadata": {
        "id": "8ikziCrXudle"
      },
      "source": [
        "# **Importing All Necessary Libraries**"
      ]
    },
    {
      "cell_type": "code",
      "execution_count": 90,
      "metadata": {
        "id": "4icht98Jb5pq"
      },
      "outputs": [],
      "source": [
        "import pandas as pd\n",
        "import numpy as np\n",
        "from scipy.stats import triang\n",
        "from google.colab import drive\n",
        "import logging\n",
        "import matplotlib.pyplot as plt\n",
        "from tqdm import tqdm\n",
        "import seaborn as sns"
      ]
    },
    {
      "cell_type": "markdown",
      "metadata": {
        "id": "yiHO_psIvN_1"
      },
      "source": [
        "# **File Path Configuration**"
      ]
    },
    {
      "cell_type": "code",
      "execution_count": 91,
      "metadata": {
        "id": "uFj3fR9cvOLE"
      },
      "outputs": [],
      "source": [
        "file_path = '/content/drive/MyDrive/DF_Data.xlsx'\n",
        "num_of_simulations = 10000"
      ]
    },
    {
      "cell_type": "markdown",
      "metadata": {
        "id": "lUqb-6pTvYiF"
      },
      "source": [
        "# **Data Loading**"
      ]
    },
    {
      "cell_type": "code",
      "execution_count": 92,
      "metadata": {
        "colab": {
          "base_uri": "https://localhost:8080/"
        },
        "id": "p4yaTD9DcFey",
        "outputId": "ec55f9c4-077d-413c-ceb1-977bb66a58bb"
      },
      "outputs": [
        {
          "output_type": "stream",
          "name": "stdout",
          "text": [
            "Drive already mounted at /content/drive; to attempt to forcibly remount, call drive.mount(\"/content/drive\", force_remount=True).\n"
          ]
        }
      ],
      "source": [
        "drive.mount('/content/drive')"
      ]
    },
    {
      "cell_type": "code",
      "execution_count": 93,
      "metadata": {
        "id": "3IR4jbg6cFly"
      },
      "outputs": [],
      "source": [
        "def load_data(file_path):\n",
        "    try:\n",
        "        print(f\"Data loading.............\\n\\n\\n\")\n",
        "        df = pd.read_excel(file_path)\n",
        "        return df\n",
        "    except Exception as e:\n",
        "        print(f\"Error loading data from {file_path}: {e}\")\n",
        "        return None"
      ]
    },
    {
      "cell_type": "code",
      "execution_count": 94,
      "metadata": {
        "colab": {
          "base_uri": "https://localhost:8080/",
          "height": 571
        },
        "id": "Ta8RLE68z3ux",
        "outputId": "891179c8-3941-428e-fe78-f193aebe0f2d"
      },
      "outputs": [
        {
          "output_type": "stream",
          "name": "stdout",
          "text": [
            "Data loading.............\n",
            "\n",
            "\n",
            "\n"
          ]
        },
        {
          "output_type": "execute_result",
          "data": {
            "text/plain": [
              "   Check box if it is a Risk. Row ID Risk Category Short Tile  \\\n",
              "0                         NaN  SD001           NaN        NaN   \n",
              "1                         NaN  SD002           NaN        NaN   \n",
              "2                         NaN  SD003           NaN        NaN   \n",
              "3                         NaN  SD004           NaN        NaN   \n",
              "4                         NaN  SD005           NaN        NaN   \n",
              "\n",
              "  Definition (What is the Risk?) What is the Cause? What is the Impact?  \\\n",
              "0                            NaN                NaN                 NaN   \n",
              "1                            NaN                NaN                 NaN   \n",
              "2                            NaN                NaN                 NaN   \n",
              "3                            NaN                NaN                 NaN   \n",
              "4                            NaN                NaN                 NaN   \n",
              "\n",
              "  Mitigation Plan Risk Review Comments Risk Owner (Responsible)  ... Severity  \\\n",
              "0             NaN                  NaN                      NaN  ...        0   \n",
              "1             NaN                  NaN                      NaN  ...        0   \n",
              "2             NaN                  NaN                      NaN  ...        0   \n",
              "3             NaN                  NaN                      NaN  ...        0   \n",
              "4             NaN                  NaN                      NaN  ...        0   \n",
              "\n",
              "   Priority  Cost Impact Score  Budget Impact Cost Impact Matrix 1  \\\n",
              "0       NaN                NaN            NaN                  1-1   \n",
              "1       NaN                NaN            NaN                  1-2   \n",
              "2       NaN                NaN            NaN                  1-3   \n",
              "3       NaN                NaN            NaN                  1-4   \n",
              "4       NaN                NaN            NaN                  1-5   \n",
              "\n",
              "   Cost Impact Matrix 2 Date of Resolution Progress Update  \\\n",
              "0               10000.0                NaN             NaN   \n",
              "1               30000.0                NaN             NaN   \n",
              "2               50000.0                NaN             NaN   \n",
              "3              100000.0                NaN             NaN   \n",
              "4              200000.0                NaN             NaN   \n",
              "\n",
              "   Progress Updated Tracking  Date Closed  \n",
              "0        2024-05-08 16:54:27          NaN  \n",
              "1        2024-05-08 16:54:27          NaN  \n",
              "2        2024-05-08 16:54:27          NaN  \n",
              "3        2024-05-08 16:54:27          NaN  \n",
              "4        2024-05-08 16:54:27          NaN  \n",
              "\n",
              "[5 rows x 23 columns]"
            ],
            "text/html": [
              "\n",
              "  <div id=\"df-c5a28da4-0f32-40f5-8aac-b21fe92c8df2\" class=\"colab-df-container\">\n",
              "    <div>\n",
              "<style scoped>\n",
              "    .dataframe tbody tr th:only-of-type {\n",
              "        vertical-align: middle;\n",
              "    }\n",
              "\n",
              "    .dataframe tbody tr th {\n",
              "        vertical-align: top;\n",
              "    }\n",
              "\n",
              "    .dataframe thead th {\n",
              "        text-align: right;\n",
              "    }\n",
              "</style>\n",
              "<table border=\"1\" class=\"dataframe\">\n",
              "  <thead>\n",
              "    <tr style=\"text-align: right;\">\n",
              "      <th></th>\n",
              "      <th>Check box if it is a Risk.</th>\n",
              "      <th>Row ID</th>\n",
              "      <th>Risk Category</th>\n",
              "      <th>Short Tile</th>\n",
              "      <th>Definition (What is the Risk?)</th>\n",
              "      <th>What is the Cause?</th>\n",
              "      <th>What is the Impact?</th>\n",
              "      <th>Mitigation Plan</th>\n",
              "      <th>Risk Review Comments</th>\n",
              "      <th>Risk Owner (Responsible)</th>\n",
              "      <th>...</th>\n",
              "      <th>Severity</th>\n",
              "      <th>Priority</th>\n",
              "      <th>Cost Impact Score</th>\n",
              "      <th>Budget Impact</th>\n",
              "      <th>Cost Impact Matrix 1</th>\n",
              "      <th>Cost Impact Matrix 2</th>\n",
              "      <th>Date of Resolution</th>\n",
              "      <th>Progress Update</th>\n",
              "      <th>Progress Updated Tracking</th>\n",
              "      <th>Date Closed</th>\n",
              "    </tr>\n",
              "  </thead>\n",
              "  <tbody>\n",
              "    <tr>\n",
              "      <th>0</th>\n",
              "      <td>NaN</td>\n",
              "      <td>SD001</td>\n",
              "      <td>NaN</td>\n",
              "      <td>NaN</td>\n",
              "      <td>NaN</td>\n",
              "      <td>NaN</td>\n",
              "      <td>NaN</td>\n",
              "      <td>NaN</td>\n",
              "      <td>NaN</td>\n",
              "      <td>NaN</td>\n",
              "      <td>...</td>\n",
              "      <td>0</td>\n",
              "      <td>NaN</td>\n",
              "      <td>NaN</td>\n",
              "      <td>NaN</td>\n",
              "      <td>1-1</td>\n",
              "      <td>10000.0</td>\n",
              "      <td>NaN</td>\n",
              "      <td>NaN</td>\n",
              "      <td>2024-05-08 16:54:27</td>\n",
              "      <td>NaN</td>\n",
              "    </tr>\n",
              "    <tr>\n",
              "      <th>1</th>\n",
              "      <td>NaN</td>\n",
              "      <td>SD002</td>\n",
              "      <td>NaN</td>\n",
              "      <td>NaN</td>\n",
              "      <td>NaN</td>\n",
              "      <td>NaN</td>\n",
              "      <td>NaN</td>\n",
              "      <td>NaN</td>\n",
              "      <td>NaN</td>\n",
              "      <td>NaN</td>\n",
              "      <td>...</td>\n",
              "      <td>0</td>\n",
              "      <td>NaN</td>\n",
              "      <td>NaN</td>\n",
              "      <td>NaN</td>\n",
              "      <td>1-2</td>\n",
              "      <td>30000.0</td>\n",
              "      <td>NaN</td>\n",
              "      <td>NaN</td>\n",
              "      <td>2024-05-08 16:54:27</td>\n",
              "      <td>NaN</td>\n",
              "    </tr>\n",
              "    <tr>\n",
              "      <th>2</th>\n",
              "      <td>NaN</td>\n",
              "      <td>SD003</td>\n",
              "      <td>NaN</td>\n",
              "      <td>NaN</td>\n",
              "      <td>NaN</td>\n",
              "      <td>NaN</td>\n",
              "      <td>NaN</td>\n",
              "      <td>NaN</td>\n",
              "      <td>NaN</td>\n",
              "      <td>NaN</td>\n",
              "      <td>...</td>\n",
              "      <td>0</td>\n",
              "      <td>NaN</td>\n",
              "      <td>NaN</td>\n",
              "      <td>NaN</td>\n",
              "      <td>1-3</td>\n",
              "      <td>50000.0</td>\n",
              "      <td>NaN</td>\n",
              "      <td>NaN</td>\n",
              "      <td>2024-05-08 16:54:27</td>\n",
              "      <td>NaN</td>\n",
              "    </tr>\n",
              "    <tr>\n",
              "      <th>3</th>\n",
              "      <td>NaN</td>\n",
              "      <td>SD004</td>\n",
              "      <td>NaN</td>\n",
              "      <td>NaN</td>\n",
              "      <td>NaN</td>\n",
              "      <td>NaN</td>\n",
              "      <td>NaN</td>\n",
              "      <td>NaN</td>\n",
              "      <td>NaN</td>\n",
              "      <td>NaN</td>\n",
              "      <td>...</td>\n",
              "      <td>0</td>\n",
              "      <td>NaN</td>\n",
              "      <td>NaN</td>\n",
              "      <td>NaN</td>\n",
              "      <td>1-4</td>\n",
              "      <td>100000.0</td>\n",
              "      <td>NaN</td>\n",
              "      <td>NaN</td>\n",
              "      <td>2024-05-08 16:54:27</td>\n",
              "      <td>NaN</td>\n",
              "    </tr>\n",
              "    <tr>\n",
              "      <th>4</th>\n",
              "      <td>NaN</td>\n",
              "      <td>SD005</td>\n",
              "      <td>NaN</td>\n",
              "      <td>NaN</td>\n",
              "      <td>NaN</td>\n",
              "      <td>NaN</td>\n",
              "      <td>NaN</td>\n",
              "      <td>NaN</td>\n",
              "      <td>NaN</td>\n",
              "      <td>NaN</td>\n",
              "      <td>...</td>\n",
              "      <td>0</td>\n",
              "      <td>NaN</td>\n",
              "      <td>NaN</td>\n",
              "      <td>NaN</td>\n",
              "      <td>1-5</td>\n",
              "      <td>200000.0</td>\n",
              "      <td>NaN</td>\n",
              "      <td>NaN</td>\n",
              "      <td>2024-05-08 16:54:27</td>\n",
              "      <td>NaN</td>\n",
              "    </tr>\n",
              "  </tbody>\n",
              "</table>\n",
              "<p>5 rows × 23 columns</p>\n",
              "</div>\n",
              "    <div class=\"colab-df-buttons\">\n",
              "\n",
              "  <div class=\"colab-df-container\">\n",
              "    <button class=\"colab-df-convert\" onclick=\"convertToInteractive('df-c5a28da4-0f32-40f5-8aac-b21fe92c8df2')\"\n",
              "            title=\"Convert this dataframe to an interactive table.\"\n",
              "            style=\"display:none;\">\n",
              "\n",
              "  <svg xmlns=\"http://www.w3.org/2000/svg\" height=\"24px\" viewBox=\"0 -960 960 960\">\n",
              "    <path d=\"M120-120v-720h720v720H120Zm60-500h600v-160H180v160Zm220 220h160v-160H400v160Zm0 220h160v-160H400v160ZM180-400h160v-160H180v160Zm440 0h160v-160H620v160ZM180-180h160v-160H180v160Zm440 0h160v-160H620v160Z\"/>\n",
              "  </svg>\n",
              "    </button>\n",
              "\n",
              "  <style>\n",
              "    .colab-df-container {\n",
              "      display:flex;\n",
              "      gap: 12px;\n",
              "    }\n",
              "\n",
              "    .colab-df-convert {\n",
              "      background-color: #E8F0FE;\n",
              "      border: none;\n",
              "      border-radius: 50%;\n",
              "      cursor: pointer;\n",
              "      display: none;\n",
              "      fill: #1967D2;\n",
              "      height: 32px;\n",
              "      padding: 0 0 0 0;\n",
              "      width: 32px;\n",
              "    }\n",
              "\n",
              "    .colab-df-convert:hover {\n",
              "      background-color: #E2EBFA;\n",
              "      box-shadow: 0px 1px 2px rgba(60, 64, 67, 0.3), 0px 1px 3px 1px rgba(60, 64, 67, 0.15);\n",
              "      fill: #174EA6;\n",
              "    }\n",
              "\n",
              "    .colab-df-buttons div {\n",
              "      margin-bottom: 4px;\n",
              "    }\n",
              "\n",
              "    [theme=dark] .colab-df-convert {\n",
              "      background-color: #3B4455;\n",
              "      fill: #D2E3FC;\n",
              "    }\n",
              "\n",
              "    [theme=dark] .colab-df-convert:hover {\n",
              "      background-color: #434B5C;\n",
              "      box-shadow: 0px 1px 3px 1px rgba(0, 0, 0, 0.15);\n",
              "      filter: drop-shadow(0px 1px 2px rgba(0, 0, 0, 0.3));\n",
              "      fill: #FFFFFF;\n",
              "    }\n",
              "  </style>\n",
              "\n",
              "    <script>\n",
              "      const buttonEl =\n",
              "        document.querySelector('#df-c5a28da4-0f32-40f5-8aac-b21fe92c8df2 button.colab-df-convert');\n",
              "      buttonEl.style.display =\n",
              "        google.colab.kernel.accessAllowed ? 'block' : 'none';\n",
              "\n",
              "      async function convertToInteractive(key) {\n",
              "        const element = document.querySelector('#df-c5a28da4-0f32-40f5-8aac-b21fe92c8df2');\n",
              "        const dataTable =\n",
              "          await google.colab.kernel.invokeFunction('convertToInteractive',\n",
              "                                                    [key], {});\n",
              "        if (!dataTable) return;\n",
              "\n",
              "        const docLinkHtml = 'Like what you see? Visit the ' +\n",
              "          '<a target=\"_blank\" href=https://colab.research.google.com/notebooks/data_table.ipynb>data table notebook</a>'\n",
              "          + ' to learn more about interactive tables.';\n",
              "        element.innerHTML = '';\n",
              "        dataTable['output_type'] = 'display_data';\n",
              "        await google.colab.output.renderOutput(dataTable, element);\n",
              "        const docLink = document.createElement('div');\n",
              "        docLink.innerHTML = docLinkHtml;\n",
              "        element.appendChild(docLink);\n",
              "      }\n",
              "    </script>\n",
              "  </div>\n",
              "\n",
              "\n",
              "<div id=\"df-e951ddcf-ba44-4efe-85e4-dd21d6b0d121\">\n",
              "  <button class=\"colab-df-quickchart\" onclick=\"quickchart('df-e951ddcf-ba44-4efe-85e4-dd21d6b0d121')\"\n",
              "            title=\"Suggest charts\"\n",
              "            style=\"display:none;\">\n",
              "\n",
              "<svg xmlns=\"http://www.w3.org/2000/svg\" height=\"24px\"viewBox=\"0 0 24 24\"\n",
              "     width=\"24px\">\n",
              "    <g>\n",
              "        <path d=\"M19 3H5c-1.1 0-2 .9-2 2v14c0 1.1.9 2 2 2h14c1.1 0 2-.9 2-2V5c0-1.1-.9-2-2-2zM9 17H7v-7h2v7zm4 0h-2V7h2v10zm4 0h-2v-4h2v4z\"/>\n",
              "    </g>\n",
              "</svg>\n",
              "  </button>\n",
              "\n",
              "<style>\n",
              "  .colab-df-quickchart {\n",
              "      --bg-color: #E8F0FE;\n",
              "      --fill-color: #1967D2;\n",
              "      --hover-bg-color: #E2EBFA;\n",
              "      --hover-fill-color: #174EA6;\n",
              "      --disabled-fill-color: #AAA;\n",
              "      --disabled-bg-color: #DDD;\n",
              "  }\n",
              "\n",
              "  [theme=dark] .colab-df-quickchart {\n",
              "      --bg-color: #3B4455;\n",
              "      --fill-color: #D2E3FC;\n",
              "      --hover-bg-color: #434B5C;\n",
              "      --hover-fill-color: #FFFFFF;\n",
              "      --disabled-bg-color: #3B4455;\n",
              "      --disabled-fill-color: #666;\n",
              "  }\n",
              "\n",
              "  .colab-df-quickchart {\n",
              "    background-color: var(--bg-color);\n",
              "    border: none;\n",
              "    border-radius: 50%;\n",
              "    cursor: pointer;\n",
              "    display: none;\n",
              "    fill: var(--fill-color);\n",
              "    height: 32px;\n",
              "    padding: 0;\n",
              "    width: 32px;\n",
              "  }\n",
              "\n",
              "  .colab-df-quickchart:hover {\n",
              "    background-color: var(--hover-bg-color);\n",
              "    box-shadow: 0 1px 2px rgba(60, 64, 67, 0.3), 0 1px 3px 1px rgba(60, 64, 67, 0.15);\n",
              "    fill: var(--button-hover-fill-color);\n",
              "  }\n",
              "\n",
              "  .colab-df-quickchart-complete:disabled,\n",
              "  .colab-df-quickchart-complete:disabled:hover {\n",
              "    background-color: var(--disabled-bg-color);\n",
              "    fill: var(--disabled-fill-color);\n",
              "    box-shadow: none;\n",
              "  }\n",
              "\n",
              "  .colab-df-spinner {\n",
              "    border: 2px solid var(--fill-color);\n",
              "    border-color: transparent;\n",
              "    border-bottom-color: var(--fill-color);\n",
              "    animation:\n",
              "      spin 1s steps(1) infinite;\n",
              "  }\n",
              "\n",
              "  @keyframes spin {\n",
              "    0% {\n",
              "      border-color: transparent;\n",
              "      border-bottom-color: var(--fill-color);\n",
              "      border-left-color: var(--fill-color);\n",
              "    }\n",
              "    20% {\n",
              "      border-color: transparent;\n",
              "      border-left-color: var(--fill-color);\n",
              "      border-top-color: var(--fill-color);\n",
              "    }\n",
              "    30% {\n",
              "      border-color: transparent;\n",
              "      border-left-color: var(--fill-color);\n",
              "      border-top-color: var(--fill-color);\n",
              "      border-right-color: var(--fill-color);\n",
              "    }\n",
              "    40% {\n",
              "      border-color: transparent;\n",
              "      border-right-color: var(--fill-color);\n",
              "      border-top-color: var(--fill-color);\n",
              "    }\n",
              "    60% {\n",
              "      border-color: transparent;\n",
              "      border-right-color: var(--fill-color);\n",
              "    }\n",
              "    80% {\n",
              "      border-color: transparent;\n",
              "      border-right-color: var(--fill-color);\n",
              "      border-bottom-color: var(--fill-color);\n",
              "    }\n",
              "    90% {\n",
              "      border-color: transparent;\n",
              "      border-bottom-color: var(--fill-color);\n",
              "    }\n",
              "  }\n",
              "</style>\n",
              "\n",
              "  <script>\n",
              "    async function quickchart(key) {\n",
              "      const quickchartButtonEl =\n",
              "        document.querySelector('#' + key + ' button');\n",
              "      quickchartButtonEl.disabled = true;  // To prevent multiple clicks.\n",
              "      quickchartButtonEl.classList.add('colab-df-spinner');\n",
              "      try {\n",
              "        const charts = await google.colab.kernel.invokeFunction(\n",
              "            'suggestCharts', [key], {});\n",
              "      } catch (error) {\n",
              "        console.error('Error during call to suggestCharts:', error);\n",
              "      }\n",
              "      quickchartButtonEl.classList.remove('colab-df-spinner');\n",
              "      quickchartButtonEl.classList.add('colab-df-quickchart-complete');\n",
              "    }\n",
              "    (() => {\n",
              "      let quickchartButtonEl =\n",
              "        document.querySelector('#df-e951ddcf-ba44-4efe-85e4-dd21d6b0d121 button');\n",
              "      quickchartButtonEl.style.display =\n",
              "        google.colab.kernel.accessAllowed ? 'block' : 'none';\n",
              "    })();\n",
              "  </script>\n",
              "</div>\n",
              "\n",
              "    </div>\n",
              "  </div>\n"
            ],
            "application/vnd.google.colaboratory.intrinsic+json": {
              "type": "dataframe",
              "variable_name": "df"
            }
          },
          "metadata": {},
          "execution_count": 94
        }
      ],
      "source": [
        "df = load_data(file_path)\n",
        "# Show data head to check if data is read correctly\n",
        "df.head()"
      ]
    },
    {
      "cell_type": "code",
      "execution_count": 95,
      "metadata": {
        "colab": {
          "base_uri": "https://localhost:8080/"
        },
        "id": "cYeTmUcy0Rlu",
        "outputId": "532e6850-ff65-43e3-f020-8fd77b7f4109"
      },
      "outputs": [
        {
          "output_type": "execute_result",
          "data": {
            "text/plain": [
              "(90, 23)"
            ]
          },
          "metadata": {},
          "execution_count": 95
        }
      ],
      "source": [
        "# Check data shape\n",
        "df.shape"
      ]
    },
    {
      "cell_type": "code",
      "execution_count": 96,
      "metadata": {
        "colab": {
          "base_uri": "https://localhost:8080/"
        },
        "id": "7w25qnGn0RWm",
        "outputId": "8d3bca1e-ca23-41d6-81f2-3936a3217ce1"
      },
      "outputs": [
        {
          "output_type": "execute_result",
          "data": {
            "text/plain": [
              "Check box if it is a Risk.        90\n",
              "Row ID                             0\n",
              "Risk Category                     25\n",
              "Short Tile                        25\n",
              "Definition (What is the Risk?)    27\n",
              "What is the Cause?                35\n",
              "What is the Impact?               34\n",
              "Mitigation Plan                   40\n",
              "Risk Review Comments              42\n",
              "Risk Owner (Responsible)          30\n",
              "Status                             0\n",
              "Probability [1-Low/5 Certain]     54\n",
              "Impact [1-Low/5 Critical]         54\n",
              "Severity                           0\n",
              "Priority                          55\n",
              "Cost Impact Score                 54\n",
              "Budget Impact                     30\n",
              "Cost Impact Matrix 1              65\n",
              "Cost Impact Matrix 2              65\n",
              "Date of Resolution                90\n",
              "Progress Update                   90\n",
              "Progress Updated Tracking          0\n",
              "Date Closed                       90\n",
              "dtype: int64"
            ]
          },
          "metadata": {},
          "execution_count": 96
        }
      ],
      "source": [
        "# Check null values\n",
        "df.isnull().sum()"
      ]
    },
    {
      "cell_type": "code",
      "execution_count": 97,
      "metadata": {
        "colab": {
          "base_uri": "https://localhost:8080/"
        },
        "id": "s8_Bb6nU76N4",
        "outputId": "f6a9f67e-a77a-4da0-ffa9-1ead49332455"
      },
      "outputs": [
        {
          "output_type": "execute_result",
          "data": {
            "text/plain": [
              "54"
            ]
          },
          "metadata": {},
          "execution_count": 97
        }
      ],
      "source": [
        "# Check null values in 'Cost Impact Score' column to drop those\n",
        "df['Cost Impact Score'].isnull().sum().sum()"
      ]
    },
    {
      "cell_type": "code",
      "source": [
        "def plot_correlation_heatmap(df):\n",
        "  try:\n",
        "      numeric_df = df.select_dtypes(include=[np.number])\n",
        "      plt.figure(figsize=(12, 8))\n",
        "      sns.heatmap(numeric_df.corr(), annot=True, cmap='coolwarm', fmt=\".2f\", linewidths=0.5)\n",
        "      plt.title('Correlation Heatmap')\n",
        "      plt.show()\n",
        "  except Exception as e:\n",
        "      print(f\"Error plotting heatmap: {e}\")"
      ],
      "metadata": {
        "id": "dkSwHP598NUU"
      },
      "execution_count": 98,
      "outputs": []
    },
    {
      "cell_type": "code",
      "source": [
        "if not df.empty:\n",
        "  plot_correlation_heatmap(df)\n",
        "else:\n",
        "  print(\"No valid data for further plotting\")"
      ],
      "metadata": {
        "colab": {
          "base_uri": "https://localhost:8080/",
          "height": 883
        },
        "id": "I8mS7QzS8Nbh",
        "outputId": "cfd6598b-b75a-4baf-ae92-5f11dccb5d76"
      },
      "execution_count": 99,
      "outputs": [
        {
          "output_type": "display_data",
          "data": {
            "text/plain": [
              "<Figure size 1200x800 with 2 Axes>"
            ],
            "image/png": "[encoded data removed]"
          },
          "metadata": {}
        }
      ]
    },
    {
      "cell_type": "code",
      "source": [
        "def plot_risk_analysis(df):\n",
        "    try:\n",
        "        # Plot the distribution of risks by category\n",
        "        plt.figure(figsize=(10, 6))\n",
        "        ax = sns.histplot(data=df, x='Risk Category', multiple='stack', shrink=0.8, palette='viridis', edgecolor='.2')\n",
        "        total_counts = df['Risk Category'].value_counts().to_dict()\n",
        "        count_strings = [f\"{category}: {count}\" for category, count in total_counts.items()]\n",
        "        title = f'Distribution of Risks by Category\\n' + ', '.join(count_strings)\n",
        "        plt.title(title)\n",
        "        plt.xticks(rotation=45)\n",
        "        plt.ylabel('Count')\n",
        "        plt.show()\n",
        "    except Exception as e:\n",
        "        print(f\"Error plotting risk analysis: {e}\")"
      ],
      "metadata": {
        "id": "dfEsJ6YV-1my"
      },
      "execution_count": 100,
      "outputs": []
    },
    {
      "cell_type": "code",
      "source": [
        "if not df.empty:\n",
        "  plot_risk_analysis(df)\n",
        "else:\n",
        "  print(\"No valid data for further plotting\")"
      ],
      "metadata": {
        "colab": {
          "base_uri": "https://localhost:8080/",
          "height": 691
        },
        "id": "Ob3EeEWj-4Hc",
        "outputId": "eb7b30fc-65f9-4852-c944-4a6f4d50f178"
      },
      "execution_count": 101,
      "outputs": [
        {
          "output_type": "stream",
          "name": "stderr",
          "text": [
            "<ipython-input-100-b503303bbc3d>:5: UserWarning: Ignoring `palette` because no `hue` variable has been assigned.\n",
            "  ax = sns.histplot(data=df, x='Risk Category', multiple='stack', shrink=0.8, palette='viridis', edgecolor='.2')\n"
          ]
        },
        {
          "output_type": "display_data",
          "data": {
            "text/plain": [
              "<Figure size 1000x600 with 1 Axes>"
            ],
            "image/png": "[encoded data removed]"
          },
          "metadata": {}
        }
      ]
    },
    {
      "cell_type": "markdown",
      "metadata": {
        "id": "RE-HsZ0Svkxe"
      },
      "source": [
        "# **Data Cleaning and Preprocessing**"
      ]
    },
    {
      "cell_type": "code",
      "execution_count": 102,
      "metadata": {
        "id": "zL3ZA--ajunS"
      },
      "outputs": [],
      "source": [
        "def preprocess_data(df):\n",
        "    try:\n",
        "        # Data Cleaning and Preprocessing\n",
        "        df['Cost Impact Score'] = pd.to_numeric(df['Cost Impact Score'], errors='coerce')\n",
        "        df = df.dropna(subset=['Cost Impact Score'])\n",
        "\n",
        "        # Calculate 'High', 'Likely', and 'Low' values to define the upper and lower possible bounds\n",
        "        df['High'] = df['Cost Impact Score']\n",
        "        df['Likely'] = df['High'] / 2\n",
        "        df['Low'] = df['Likely'] / 2\n",
        "\n",
        "        # Ensuring values are valid\n",
        "        df = df[(df['Low'] > 0) & (df['Low'] <= df['Likely']) & (df['Likely'] <= df['High'])]\n",
        "\n",
        "        if df.empty:\n",
        "            print(\"No valid data after preprocessing\")\n",
        "        else:\n",
        "            print(\"Data preprocessed successfully\")\n",
        "        return df\n",
        "\n",
        "    except Exception as e:\n",
        "        print(f\"Error during preprocessing: {e}\")\n",
        "        return pd.DataFrame()"
      ]
    },
    {
      "cell_type": "code",
      "execution_count": 103,
      "metadata": {
        "colab": {
          "base_uri": "https://localhost:8080/",
          "height": 1000
        },
        "id": "OzNWY3iVJKHm",
        "outputId": "634b00ea-7234-4dcd-8caa-0b696c80b3d8"
      },
      "outputs": [
        {
          "output_type": "stream",
          "name": "stdout",
          "text": [
            "Data preprocessed successfully\n"
          ]
        },
        {
          "output_type": "stream",
          "name": "stderr",
          "text": [
            "<ipython-input-102-c87366a1a4ef>:8: SettingWithCopyWarning: \n",
            "A value is trying to be set on a copy of a slice from a DataFrame.\n",
            "Try using .loc[row_indexer,col_indexer] = value instead\n",
            "\n",
            "See the caveats in the documentation: https://pandas.pydata.org/pandas-docs/stable/user_guide/indexing.html#returning-a-view-versus-a-copy\n",
            "  df['High'] = df['Cost Impact Score']\n",
            "<ipython-input-102-c87366a1a4ef>:9: SettingWithCopyWarning: \n",
            "A value is trying to be set on a copy of a slice from a DataFrame.\n",
            "Try using .loc[row_indexer,col_indexer] = value instead\n",
            "\n",
            "See the caveats in the documentation: https://pandas.pydata.org/pandas-docs/stable/user_guide/indexing.html#returning-a-view-versus-a-copy\n",
            "  df['Likely'] = df['High'] / 2\n",
            "<ipython-input-102-c87366a1a4ef>:10: SettingWithCopyWarning: \n",
            "A value is trying to be set on a copy of a slice from a DataFrame.\n",
            "Try using .loc[row_indexer,col_indexer] = value instead\n",
            "\n",
            "See the caveats in the documentation: https://pandas.pydata.org/pandas-docs/stable/user_guide/indexing.html#returning-a-view-versus-a-copy\n",
            "  df['Low'] = df['Likely'] / 2\n"
          ]
        },
        {
          "output_type": "execute_result",
          "data": {
            "text/plain": [
              "    Check box if it is a Risk.   Row ID Risk Category  \\\n",
              "25                         NaN   SD0013      External   \n",
              "26                         NaN   SD0014      External   \n",
              "28                         NaN   SD0019      External   \n",
              "29                         NaN  SD00112      External   \n",
              "30                         NaN  SD00120      External   \n",
              "\n",
              "                                     Short Tile  \\\n",
              "25  Police Interface - response system required   \n",
              "26                           Water Availability   \n",
              "28                Natural Disaster: Dam Rupture   \n",
              "29                     High Voltage (ITC) lines   \n",
              "30                    FAA - Height Restrictions   \n",
              "\n",
              "                       Definition (What is the Risk?)  \\\n",
              "25  Implementing and maintaining a system that mee...   \n",
              "26  Water availability given allowances for additi...   \n",
              "28  A prelimnary natural hazard review was perform...   \n",
              "29  High Voltage (ITC) lines can support up to 200...   \n",
              "30  Mechanical Room Heights limitations, lower fou...   \n",
              "\n",
              "                                   What is the Cause?  \\\n",
              "25  If we have alarming at a classified level, thi...   \n",
              "26  Utility capacity and planning for ACM site dev...   \n",
              "28  Unmanaged dam rupture.  100 or 500 year floods...   \n",
              "29                Size of existing ITC overhead lines   \n",
              "30  There are building height restrictions in cert...   \n",
              "\n",
              "                                  What is the Impact?  \\\n",
              "25  Additional hardening can increase both the com...   \n",
              "26  Critical for cooling capacity, feed up to max ...   \n",
              "28  25 year data was low risk for impact.  100 and...   \n",
              "29  ITC lines would need to be upgraded in the fut...   \n",
              "30  Mechanical Room Heights and Construction Crane...   \n",
              "\n",
              "                                      Mitigation Plan  \\\n",
              "25  Cost Savings suggestions: Implement AI-driven ...   \n",
              "26  650K/day need, need to clarify with Utility - ...   \n",
              "28  Reports from Dam from Army Corp of Engineers, ...   \n",
              "29  LANL gave us worse case scenario, if ACM bring...   \n",
              "30  - Ask for permit from FAA to be above 50' (Own...   \n",
              "\n",
              "                                 Risk Review Comments  \\\n",
              "25  Classified storage onsite, Meeting on Monday t...   \n",
              "26  According to \"available\" allowance on past his...   \n",
              "28               What about Motion tests for seismic?   \n",
              "29                             Only leaves 40 for ACM   \n",
              "30  GM building appears high, elevation confirmed ...   \n",
              "\n",
              "                             Risk Owner (Responsible)  ... Budget Impact  \\\n",
              "25                       mhankewycz@m2hprotection.com  ...        300000   \n",
              "26                    jamison.caldwell@smithgroup.com  ...        300000   \n",
              "28                       mhankewycz@m2hprotection.com  ...         60000   \n",
              "29                     andrew.varilone@smithgroup.com  ...         10000   \n",
              "30  chris.devick@smithgroup.com, jamison.caldwell@...  ...        200000   \n",
              "\n",
              "    Cost Impact Matrix 1  Cost Impact Matrix 2  Date of Resolution  \\\n",
              "25                   NaN                   NaN                 NaN   \n",
              "26                   NaN                   NaN                 NaN   \n",
              "28                   NaN                   NaN                 NaN   \n",
              "29                   NaN                   NaN                 NaN   \n",
              "30                   NaN                   NaN                 NaN   \n",
              "\n",
              "   Progress Update  Progress Updated Tracking Date Closed High  Likely   Low  \n",
              "25             NaN        2024-05-22 07:49:26         NaN  3.0     1.5  0.75  \n",
              "26             NaN        2024-05-22 07:49:26         NaN  3.0     1.5  0.75  \n",
              "28             NaN        2024-05-22 07:49:26         NaN  2.0     1.0  0.50  \n",
              "29             NaN        2024-05-22 07:49:26         NaN  1.0     0.5  0.25  \n",
              "30             NaN        2024-05-22 09:58:48         NaN  2.0     1.0  0.50  \n",
              "\n",
              "[5 rows x 26 columns]"
            ],
            "text/html": [
              "\n",
              "  <div id=\"df-c92d5403-94d8-4b4f-9b6d-5d0d89f61728\" class=\"colab-df-container\">\n",
              "    <div>\n",
              "<style scoped>\n",
              "    .dataframe tbody tr th:only-of-type {\n",
              "        vertical-align: middle;\n",
              "    }\n",
              "\n",
              "    .dataframe tbody tr th {\n",
              "        vertical-align: top;\n",
              "    }\n",
              "\n",
              "    .dataframe thead th {\n",
              "        text-align: right;\n",
              "    }\n",
              "</style>\n",
              "<table border=\"1\" class=\"dataframe\">\n",
              "  <thead>\n",
              "    <tr style=\"text-align: right;\">\n",
              "      <th></th>\n",
              "      <th>Check box if it is a Risk.</th>\n",
              "      <th>Row ID</th>\n",
              "      <th>Risk Category</th>\n",
              "      <th>Short Tile</th>\n",
              "      <th>Definition (What is the Risk?)</th>\n",
              "      <th>What is the Cause?</th>\n",
              "      <th>What is the Impact?</th>\n",
              "      <th>Mitigation Plan</th>\n",
              "      <th>Risk Review Comments</th>\n",
              "      <th>Risk Owner (Responsible)</th>\n",
              "      <th>...</th>\n",
              "      <th>Budget Impact</th>\n",
              "      <th>Cost Impact Matrix 1</th>\n",
              "      <th>Cost Impact Matrix 2</th>\n",
              "      <th>Date of Resolution</th>\n",
              "      <th>Progress Update</th>\n",
              "      <th>Progress Updated Tracking</th>\n",
              "      <th>Date Closed</th>\n",
              "      <th>High</th>\n",
              "      <th>Likely</th>\n",
              "      <th>Low</th>\n",
              "    </tr>\n",
              "  </thead>\n",
              "  <tbody>\n",
              "    <tr>\n",
              "      <th>25</th>\n",
              "      <td>NaN</td>\n",
              "      <td>SD0013</td>\n",
              "      <td>External</td>\n",
              "      <td>Police Interface - response system required</td>\n",
              "      <td>Implementing and maintaining a system that mee...</td>\n",
              "      <td>If we have alarming at a classified level, thi...</td>\n",
              "      <td>Additional hardening can increase both the com...</td>\n",
              "      <td>Cost Savings suggestions: Implement AI-driven ...</td>\n",
              "      <td>Classified storage onsite, Meeting on Monday t...</td>\n",
              "      <td>mhankewycz@m2hprotection.com</td>\n",
              "      <td>...</td>\n",
              "      <td>300000</td>\n",
              "      <td>NaN</td>\n",
              "      <td>NaN</td>\n",
              "      <td>NaN</td>\n",
              "      <td>NaN</td>\n",
              "      <td>2024-05-22 07:49:26</td>\n",
              "      <td>NaN</td>\n",
              "      <td>3.0</td>\n",
              "      <td>1.5</td>\n",
              "      <td>0.75</td>\n",
              "    </tr>\n",
              "    <tr>\n",
              "      <th>26</th>\n",
              "      <td>NaN</td>\n",
              "      <td>SD0014</td>\n",
              "      <td>External</td>\n",
              "      <td>Water Availability</td>\n",
              "      <td>Water availability given allowances for additi...</td>\n",
              "      <td>Utility capacity and planning for ACM site dev...</td>\n",
              "      <td>Critical for cooling capacity, feed up to max ...</td>\n",
              "      <td>650K/day need, need to clarify with Utility - ...</td>\n",
              "      <td>According to \"available\" allowance on past his...</td>\n",
              "      <td>jamison.caldwell@smithgroup.com</td>\n",
              "      <td>...</td>\n",
              "      <td>300000</td>\n",
              "      <td>NaN</td>\n",
              "      <td>NaN</td>\n",
              "      <td>NaN</td>\n",
              "      <td>NaN</td>\n",
              "      <td>2024-05-22 07:49:26</td>\n",
              "      <td>NaN</td>\n",
              "      <td>3.0</td>\n",
              "      <td>1.5</td>\n",
              "      <td>0.75</td>\n",
              "    </tr>\n",
              "    <tr>\n",
              "      <th>28</th>\n",
              "      <td>NaN</td>\n",
              "      <td>SD0019</td>\n",
              "      <td>External</td>\n",
              "      <td>Natural Disaster: Dam Rupture</td>\n",
              "      <td>A prelimnary natural hazard review was perform...</td>\n",
              "      <td>Unmanaged dam rupture.  100 or 500 year floods...</td>\n",
              "      <td>25 year data was low risk for impact.  100 and...</td>\n",
              "      <td>Reports from Dam from Army Corp of Engineers, ...</td>\n",
              "      <td>What about Motion tests for seismic?</td>\n",
              "      <td>mhankewycz@m2hprotection.com</td>\n",
              "      <td>...</td>\n",
              "      <td>60000</td>\n",
              "      <td>NaN</td>\n",
              "      <td>NaN</td>\n",
              "      <td>NaN</td>\n",
              "      <td>NaN</td>\n",
              "      <td>2024-05-22 07:49:26</td>\n",
              "      <td>NaN</td>\n",
              "      <td>2.0</td>\n",
              "      <td>1.0</td>\n",
              "      <td>0.50</td>\n",
              "    </tr>\n",
              "    <tr>\n",
              "      <th>29</th>\n",
              "      <td>NaN</td>\n",
              "      <td>SD00112</td>\n",
              "      <td>External</td>\n",
              "      <td>High Voltage (ITC) lines</td>\n",
              "      <td>High Voltage (ITC) lines can support up to 200...</td>\n",
              "      <td>Size of existing ITC overhead lines</td>\n",
              "      <td>ITC lines would need to be upgraded in the fut...</td>\n",
              "      <td>LANL gave us worse case scenario, if ACM bring...</td>\n",
              "      <td>Only leaves 40 for ACM</td>\n",
              "      <td>andrew.varilone@smithgroup.com</td>\n",
              "      <td>...</td>\n",
              "      <td>10000</td>\n",
              "      <td>NaN</td>\n",
              "      <td>NaN</td>\n",
              "      <td>NaN</td>\n",
              "      <td>NaN</td>\n",
              "      <td>2024-05-22 07:49:26</td>\n",
              "      <td>NaN</td>\n",
              "      <td>1.0</td>\n",
              "      <td>0.5</td>\n",
              "      <td>0.25</td>\n",
              "    </tr>\n",
              "    <tr>\n",
              "      <th>30</th>\n",
              "      <td>NaN</td>\n",
              "      <td>SD00120</td>\n",
              "      <td>External</td>\n",
              "      <td>FAA - Height Restrictions</td>\n",
              "      <td>Mechanical Room Heights limitations, lower fou...</td>\n",
              "      <td>There are building height restrictions in cert...</td>\n",
              "      <td>Mechanical Room Heights and Construction Crane...</td>\n",
              "      <td>- Ask for permit from FAA to be above 50' (Own...</td>\n",
              "      <td>GM building appears high, elevation confirmed ...</td>\n",
              "      <td>chris.devick@smithgroup.com, jamison.caldwell@...</td>\n",
              "      <td>...</td>\n",
              "      <td>200000</td>\n",
              "      <td>NaN</td>\n",
              "      <td>NaN</td>\n",
              "      <td>NaN</td>\n",
              "      <td>NaN</td>\n",
              "      <td>2024-05-22 09:58:48</td>\n",
              "      <td>NaN</td>\n",
              "      <td>2.0</td>\n",
              "      <td>1.0</td>\n",
              "      <td>0.50</td>\n",
              "    </tr>\n",
              "  </tbody>\n",
              "</table>\n",
              "<p>5 rows × 26 columns</p>\n",
              "</div>\n",
              "    <div class=\"colab-df-buttons\">\n",
              "\n",
              "  <div class=\"colab-df-container\">\n",
              "    <button class=\"colab-df-convert\" onclick=\"convertToInteractive('df-c92d5403-94d8-4b4f-9b6d-5d0d89f61728')\"\n",
              "            title=\"Convert this dataframe to an interactive table.\"\n",
              "            style=\"display:none;\">\n",
              "\n",
              "  <svg xmlns=\"http://www.w3.org/2000/svg\" height=\"24px\" viewBox=\"0 -960 960 960\">\n",
              "    <path d=\"M120-120v-720h720v720H120Zm60-500h600v-160H180v160Zm220 220h160v-160H400v160Zm0 220h160v-160H400v160ZM180-400h160v-160H180v160Zm440 0h160v-160H620v160ZM180-180h160v-160H180v160Zm440 0h160v-160H620v160Z\"/>\n",
              "  </svg>\n",
              "    </button>\n",
              "\n",
              "  <style>\n",
              "    .colab-df-container {\n",
              "      display:flex;\n",
              "      gap: 12px;\n",
              "    }\n",
              "\n",
              "    .colab-df-convert {\n",
              "      background-color: #E8F0FE;\n",
              "      border: none;\n",
              "      border-radius: 50%;\n",
              "      cursor: pointer;\n",
              "      display: none;\n",
              "      fill: #1967D2;\n",
              "      height: 32px;\n",
              "      padding: 0 0 0 0;\n",
              "      width: 32px;\n",
              "    }\n",
              "\n",
              "    .colab-df-convert:hover {\n",
              "      background-color: #E2EBFA;\n",
              "      box-shadow: 0px 1px 2px rgba(60, 64, 67, 0.3), 0px 1px 3px 1px rgba(60, 64, 67, 0.15);\n",
              "      fill: #174EA6;\n",
              "    }\n",
              "\n",
              "    .colab-df-buttons div {\n",
              "      margin-bottom: 4px;\n",
              "    }\n",
              "\n",
              "    [theme=dark] .colab-df-convert {\n",
              "      background-color: #3B4455;\n",
              "      fill: #D2E3FC;\n",
              "    }\n",
              "\n",
              "    [theme=dark] .colab-df-convert:hover {\n",
              "      background-color: #434B5C;\n",
              "      box-shadow: 0px 1px 3px 1px rgba(0, 0, 0, 0.15);\n",
              "      filter: drop-shadow(0px 1px 2px rgba(0, 0, 0, 0.3));\n",
              "      fill: #FFFFFF;\n",
              "    }\n",
              "  </style>\n",
              "\n",
              "    <script>\n",
              "      const buttonEl =\n",
              "        document.querySelector('#df-c92d5403-94d8-4b4f-9b6d-5d0d89f61728 button.colab-df-convert');\n",
              "      buttonEl.style.display =\n",
              "        google.colab.kernel.accessAllowed ? 'block' : 'none';\n",
              "\n",
              "      async function convertToInteractive(key) {\n",
              "        const element = document.querySelector('#df-c92d5403-94d8-4b4f-9b6d-5d0d89f61728');\n",
              "        const dataTable =\n",
              "          await google.colab.kernel.invokeFunction('convertToInteractive',\n",
              "                                                    [key], {});\n",
              "        if (!dataTable) return;\n",
              "\n",
              "        const docLinkHtml = 'Like what you see? Visit the ' +\n",
              "          '<a target=\"_blank\" href=https://colab.research.google.com/notebooks/data_table.ipynb>data table notebook</a>'\n",
              "          + ' to learn more about interactive tables.';\n",
              "        element.innerHTML = '';\n",
              "        dataTable['output_type'] = 'display_data';\n",
              "        await google.colab.output.renderOutput(dataTable, element);\n",
              "        const docLink = document.createElement('div');\n",
              "        docLink.innerHTML = docLinkHtml;\n",
              "        element.appendChild(docLink);\n",
              "      }\n",
              "    </script>\n",
              "  </div>\n",
              "\n",
              "\n",
              "<div id=\"df-b1d6bec8-496d-4c67-b653-e580149057e5\">\n",
              "  <button class=\"colab-df-quickchart\" onclick=\"quickchart('df-b1d6bec8-496d-4c67-b653-e580149057e5')\"\n",
              "            title=\"Suggest charts\"\n",
              "            style=\"display:none;\">\n",
              "\n",
              "<svg xmlns=\"http://www.w3.org/2000/svg\" height=\"24px\"viewBox=\"0 0 24 24\"\n",
              "     width=\"24px\">\n",
              "    <g>\n",
              "        <path d=\"M19 3H5c-1.1 0-2 .9-2 2v14c0 1.1.9 2 2 2h14c1.1 0 2-.9 2-2V5c0-1.1-.9-2-2-2zM9 17H7v-7h2v7zm4 0h-2V7h2v10zm4 0h-2v-4h2v4z\"/>\n",
              "    </g>\n",
              "</svg>\n",
              "  </button>\n",
              "\n",
              "<style>\n",
              "  .colab-df-quickchart {\n",
              "      --bg-color: #E8F0FE;\n",
              "      --fill-color: #1967D2;\n",
              "      --hover-bg-color: #E2EBFA;\n",
              "      --hover-fill-color: #174EA6;\n",
              "      --disabled-fill-color: #AAA;\n",
              "      --disabled-bg-color: #DDD;\n",
              "  }\n",
              "\n",
              "  [theme=dark] .colab-df-quickchart {\n",
              "      --bg-color: #3B4455;\n",
              "      --fill-color: #D2E3FC;\n",
              "      --hover-bg-color: #434B5C;\n",
              "      --hover-fill-color: #FFFFFF;\n",
              "      --disabled-bg-color: #3B4455;\n",
              "      --disabled-fill-color: #666;\n",
              "  }\n",
              "\n",
              "  .colab-df-quickchart {\n",
              "    background-color: var(--bg-color);\n",
              "    border: none;\n",
              "    border-radius: 50%;\n",
              "    cursor: pointer;\n",
              "    display: none;\n",
              "    fill: var(--fill-color);\n",
              "    height: 32px;\n",
              "    padding: 0;\n",
              "    width: 32px;\n",
              "  }\n",
              "\n",
              "  .colab-df-quickchart:hover {\n",
              "    background-color: var(--hover-bg-color);\n",
              "    box-shadow: 0 1px 2px rgba(60, 64, 67, 0.3), 0 1px 3px 1px rgba(60, 64, 67, 0.15);\n",
              "    fill: var(--button-hover-fill-color);\n",
              "  }\n",
              "\n",
              "  .colab-df-quickchart-complete:disabled,\n",
              "  .colab-df-quickchart-complete:disabled:hover {\n",
              "    background-color: var(--disabled-bg-color);\n",
              "    fill: var(--disabled-fill-color);\n",
              "    box-shadow: none;\n",
              "  }\n",
              "\n",
              "  .colab-df-spinner {\n",
              "    border: 2px solid var(--fill-color);\n",
              "    border-color: transparent;\n",
              "    border-bottom-color: var(--fill-color);\n",
              "    animation:\n",
              "      spin 1s steps(1) infinite;\n",
              "  }\n",
              "\n",
              "  @keyframes spin {\n",
              "    0% {\n",
              "      border-color: transparent;\n",
              "      border-bottom-color: var(--fill-color);\n",
              "      border-left-color: var(--fill-color);\n",
              "    }\n",
              "    20% {\n",
              "      border-color: transparent;\n",
              "      border-left-color: var(--fill-color);\n",
              "      border-top-color: var(--fill-color);\n",
              "    }\n",
              "    30% {\n",
              "      border-color: transparent;\n",
              "      border-left-color: var(--fill-color);\n",
              "      border-top-color: var(--fill-color);\n",
              "      border-right-color: var(--fill-color);\n",
              "    }\n",
              "    40% {\n",
              "      border-color: transparent;\n",
              "      border-right-color: var(--fill-color);\n",
              "      border-top-color: var(--fill-color);\n",
              "    }\n",
              "    60% {\n",
              "      border-color: transparent;\n",
              "      border-right-color: var(--fill-color);\n",
              "    }\n",
              "    80% {\n",
              "      border-color: transparent;\n",
              "      border-right-color: var(--fill-color);\n",
              "      border-bottom-color: var(--fill-color);\n",
              "    }\n",
              "    90% {\n",
              "      border-color: transparent;\n",
              "      border-bottom-color: var(--fill-color);\n",
              "    }\n",
              "  }\n",
              "</style>\n",
              "\n",
              "  <script>\n",
              "    async function quickchart(key) {\n",
              "      const quickchartButtonEl =\n",
              "        document.querySelector('#' + key + ' button');\n",
              "      quickchartButtonEl.disabled = true;  // To prevent multiple clicks.\n",
              "      quickchartButtonEl.classList.add('colab-df-spinner');\n",
              "      try {\n",
              "        const charts = await google.colab.kernel.invokeFunction(\n",
              "            'suggestCharts', [key], {});\n",
              "      } catch (error) {\n",
              "        console.error('Error during call to suggestCharts:', error);\n",
              "      }\n",
              "      quickchartButtonEl.classList.remove('colab-df-spinner');\n",
              "      quickchartButtonEl.classList.add('colab-df-quickchart-complete');\n",
              "    }\n",
              "    (() => {\n",
              "      let quickchartButtonEl =\n",
              "        document.querySelector('#df-b1d6bec8-496d-4c67-b653-e580149057e5 button');\n",
              "      quickchartButtonEl.style.display =\n",
              "        google.colab.kernel.accessAllowed ? 'block' : 'none';\n",
              "    })();\n",
              "  </script>\n",
              "</div>\n",
              "\n",
              "    </div>\n",
              "  </div>\n"
            ],
            "application/vnd.google.colaboratory.intrinsic+json": {
              "type": "dataframe",
              "variable_name": "df"
            }
          },
          "metadata": {},
          "execution_count": 103
        }
      ],
      "source": [
        "if df is not None and not df.empty:\n",
        "  # Preprocess Data\n",
        "  df = preprocess_data(df)\n",
        "else:\n",
        "  print(\"Data could not be loaded or is empty\")\n",
        "\n",
        "df.head()"
      ]
    },
    {
      "cell_type": "markdown",
      "metadata": {
        "id": "pHn-3NhgwEAN"
      },
      "source": [
        "# **Analyzing Costs**"
      ]
    },
    {
      "cell_type": "code",
      "execution_count": 104,
      "metadata": {
        "id": "oG0eoGyocNV6"
      },
      "outputs": [],
      "source": [
        "def simulate_cost_impacts(df, num_of_simulations=10000):\n",
        "    print(\"Simulating cost impacts using the triangular distribution...\")\n",
        "    total_cost_impacts = np.zeros(num_of_simulations)\n",
        "    try:\n",
        "        for i in tqdm(range(num_of_simulations), desc=\"Simulating cost impacts\"):\n",
        "            random_factors = np.random.rand(len(df))\n",
        "            # Calculating simulated costs using the triangular distribution\n",
        "            simulated_costs = triang.ppf(random_factors,\n",
        "                                         (df['Likely'] - df['Low']) / (df['High'] - df['Low']),\n",
        "                                         loc=df['Low'],\n",
        "                                         scale=df['High'] - df['Low'])\n",
        "            total_cost_impacts[i] = simulated_costs.sum()\n",
        "        return total_cost_impacts\n",
        "    except Exception as e:\n",
        "        print(f\"Error during simulation: {e}\")\n",
        "        return np.zeros(0)"
      ]
    },
    {
      "cell_type": "code",
      "execution_count": 105,
      "metadata": {
        "colab": {
          "base_uri": "https://localhost:8080/"
        },
        "id": "-5SBXyZxJaDU",
        "outputId": "92515449-0982-4798-cb1b-b227fe5f573b"
      },
      "outputs": [
        {
          "output_type": "stream",
          "name": "stdout",
          "text": [
            "Simulating cost impacts using the triangular distribution...\n"
          ]
        },
        {
          "output_type": "stream",
          "name": "stderr",
          "text": [
            "Simulating cost impacts: 100%|██████████| 10000/10000 [00:07<00:00, 1298.35it/s]\n"
          ]
        },
        {
          "output_type": "execute_result",
          "data": {
            "text/plain": [
              "array([47.682867  , 49.81106237, 56.84823494, ..., 54.25382409,\n",
              "       54.77377149, 54.68722438])"
            ]
          },
          "metadata": {},
          "execution_count": 105
        }
      ],
      "source": [
        "if not df.empty:\n",
        "  # Simulate Cost Impacts\n",
        "  total_cost_impacts = simulate_cost_impacts(df, num_of_simulations)\n",
        "else:\n",
        "  print(\"No valid data to process after preprocessing\")\n",
        "\n",
        "total_cost_impacts"
      ]
    },
    {
      "cell_type": "markdown",
      "metadata": {
        "id": "Kw3TcPLJwOnW"
      },
      "source": [
        "# **Percentile Calculation**"
      ]
    },
    {
      "cell_type": "code",
      "execution_count": 106,
      "metadata": {
        "id": "58GdOxrScNYz"
      },
      "outputs": [],
      "source": [
        "def calculate_percentiles(total_cost_impacts):\n",
        "    try:\n",
        "        p90 = np.percentile(total_cost_impacts, 90)\n",
        "        p70 = np.percentile(total_cost_impacts, 70)\n",
        "        p30 = np.percentile(total_cost_impacts, 30)\n",
        "        return p90, p70, p30\n",
        "    except Exception as e:\n",
        "        print(f\"Error calculating percentiles: {e}\")\n",
        "        return None, None, None"
      ]
    },
    {
      "cell_type": "code",
      "execution_count": 107,
      "metadata": {
        "colab": {
          "base_uri": "https://localhost:8080/"
        },
        "id": "d-WcXJFCJnf2",
        "outputId": "0aabfb7e-00a1-406d-b377-40f7bef6199b"
      },
      "outputs": [
        {
          "output_type": "stream",
          "name": "stdout",
          "text": [
            "P90 result: 56.91672940954026\n",
            "P70 result: 54.98123296678069\n",
            "P30 result: 52.28317354054998\n"
          ]
        }
      ],
      "source": [
        "if total_cost_impacts.size > 0:\n",
        "    # Calculate Percentiles\n",
        "    p90, p70, p30 = calculate_percentiles(total_cost_impacts)\n",
        "    if None not in (p90, p70, p30):\n",
        "        print(f\"P90 result: {p90}\")\n",
        "        print(f\"P70 result: {p70}\")\n",
        "        print(f\"P30 result: {p30}\")\n",
        "    else:\n",
        "        print(\"Percentile calculation failed\")\n",
        "else:\n",
        "    print(\"Simulation produced no valid results\")"
      ]
    },
    {
      "cell_type": "markdown",
      "source": [
        "# **Plotting Functions**"
      ],
      "metadata": {
        "id": "NSGlAn0-46Kx"
      }
    },
    {
      "cell_type": "code",
      "source": [
        "def plot_cost_impacts(total_cost_impacts):\n",
        "    try:\n",
        "        plt.figure(figsize=(10, 6))\n",
        "        plt.hist(total_cost_impacts, bins=30, density=True, alpha=0.7, color='b')\n",
        "        plt.title('Simulated Cost Impacts Distribution')\n",
        "        plt.xlabel('Total Cost Impact')\n",
        "        plt.ylabel('Density')\n",
        "        plt.grid(True)\n",
        "        plt.show()\n",
        "    except Exception as e:\n",
        "        print(f\"Error plotting cost impacts: {e}\")"
      ],
      "metadata": {
        "id": "-wqhEvjbZX8B"
      },
      "execution_count": 108,
      "outputs": []
    },
    {
      "cell_type": "code",
      "source": [
        "if total_cost_impacts.size > 0:\n",
        "    plot_cost_impacts(total_cost_impacts)\n",
        "else:\n",
        "    print(\"Simulation produced no valid results for plotting\")"
      ],
      "metadata": {
        "colab": {
          "base_uri": "https://localhost:8080/",
          "height": 564
        },
        "id": "IuLxF1vdZc03",
        "outputId": "e42a136a-dd6d-4f22-8e40-c67713d2fb57"
      },
      "execution_count": 109,
      "outputs": [
        {
          "output_type": "display_data",
          "data": {
            "text/plain": [
              "<Figure size 1000x600 with 1 Axes>"
            ],
            "image/png": "[encoded data removed]"
          },
          "metadata": {}
        }
      ]
    }
  ],
  "metadata": {
    "colab": {
      "provenance": []
    },
    "kernelspec": {
      "display_name": "Python 3",
      "name": "python3"
    },
    "language_info": {
      "name": "python"
    }
  },
  "nbformat": 4,
  "nbformat_minor": 0
}